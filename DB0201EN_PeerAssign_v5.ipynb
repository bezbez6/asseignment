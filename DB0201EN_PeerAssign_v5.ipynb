{
  "cells": [
    {
      "cell_type": "markdown",
      "metadata": {
        "id": "vFGOing7DlGs"
      },
      "source": [
        "<center>\n",
        "    <img src=\"https://cf-courses-data.s3.us.cloud-object-storage.appdomain.cloud/IBMDeveloperSkillsNetwork-DB0201EN-SkillsNetwork/labs/FinalModule_Coursera_V5/images/SN_web_lightmode.png\" width=\"300\" alt=\"cognitiveclass.ai logo\">\n",
        "</center>\n",
        "\n",
        "<h1 align=center><font size = 5>Assignment: Notebook for Peer Assignment</font></h1>\n"
      ]
    },
    {
      "cell_type": "markdown",
      "metadata": {
        "id": "rO7qizx4DlG8"
      },
      "source": [
        "# Introduction\n",
        "\n",
        "Using this Python notebook you will:\n",
        "\n",
        "1.  Understand three Chicago datasets  \n",
        "2.  Load the three datasets into three tables in a Db2 database\n",
        "3.  Execute SQL queries to answer assignment questions\n"
      ]
    },
    {
      "cell_type": "markdown",
      "metadata": {
        "id": "uB_tD1o1DlG_"
      },
      "source": [
        "## Understand the datasets\n",
        "\n",
        "To complete the assignment problems in this notebook you will be using three datasets that are available on the city of Chicago's Data Portal:\n",
        "\n",
        "1.  <a href=\"https://data.cityofchicago.org/Health-Human-Services/Census-Data-Selected-socioeconomic-indicators-in-C/kn9c-c2s2?utm_medium=Exinfluencer&utm_source=Exinfluencer&utm_content=000026UJ&utm_term=10006555&utm_id=NA-SkillsNetwork-Channel-SkillsNetworkCoursesIBMDeveloperSkillsNetworkDB0201ENSkillsNetwork22-2022-01-01\">Socioeconomic Indicators in Chicago</a>\n",
        "2.  <a href=\"https://data.cityofchicago.org/Education/Chicago-Public-Schools-Progress-Report-Cards-2011-/9xs2-f89t?utm_medium=Exinfluencer&utm_source=Exinfluencer&utm_content=000026UJ&utm_term=10006555&utm_id=NA-SkillsNetwork-Channel-SkillsNetworkCoursesIBMDeveloperSkillsNetworkDB0201ENSkillsNetwork22-2022-01-01\">Chicago Public Schools</a>\n",
        "3.  <a href=\"https://data.cityofchicago.org/Public-Safety/Crimes-2001-to-present/ijzp-q8t2?utm_medium=Exinfluencer&utm_source=Exinfluencer&utm_content=000026UJ&utm_term=10006555&utm_id=NA-SkillsNetwork-Channel-SkillsNetworkCoursesIBMDeveloperSkillsNetworkDB0201ENSkillsNetwork22-2022-01-01\">Chicago Crime Data</a>\n",
        "\n",
        "### 1. Socioeconomic Indicators in Chicago\n",
        "\n",
        "This dataset contains a selection of six socioeconomic indicators of public health significance and a “hardship index,” for each Chicago community area, for the years 2008 – 2012.\n",
        "\n",
        "A detailed description of this dataset and the original dataset can be obtained from the Chicago Data Portal at:\n",
        "[https://data.cityofchicago.org/Health-Human-Services/Census-Data-Selected-socioeconomic-indicators-in-C/kn9c-c2s2](https://data.cityofchicago.org/Health-Human-Services/Census-Data-Selected-socioeconomic-indicators-in-C/kn9c-c2s2?utm_medium=Exinfluencer&utm_source=Exinfluencer&utm_content=000026UJ&utm_term=10006555&utm_id=NA-SkillsNetwork-Channel-SkillsNetworkCoursesIBMDeveloperSkillsNetworkDB0201ENSkillsNetwork22-2022-01-01&cm_mmc=Email_Newsletter-_-Developer_Ed%2BTech-_-WW_WW-_-SkillsNetwork-Courses-IBMDeveloperSkillsNetwork-DB0201EN-SkillsNetwork-20127838&cm_mmca1=000026UJ&cm_mmca2=10006555&cm_mmca3=M12345678&cvosrc=email.Newsletter.M12345678&cvo_campaign=000026UJ)\n",
        "\n",
        "### 2. Chicago Public Schools\n",
        "\n",
        "This dataset shows all school level performance data used to create CPS School Report Cards for the 2011-2012 school year. This dataset is provided by the city of Chicago's Data Portal.\n",
        "\n",
        "A detailed description of this dataset and the original dataset can be obtained from the Chicago Data Portal at:\n",
        "[https://data.cityofchicago.org/Education/Chicago-Public-Schools-Progress-Report-Cards-2011-/9xs2-f89t](https://data.cityofchicago.org/Education/Chicago-Public-Schools-Progress-Report-Cards-2011-/9xs2-f89t?utm_medium=Exinfluencer&utm_source=Exinfluencer&utm_content=000026UJ&utm_term=10006555&utm_id=NA-SkillsNetwork-Channel-SkillsNetworkCoursesIBMDeveloperSkillsNetworkDB0201ENSkillsNetwork22-2022-01-01&cm_mmc=Email_Newsletter-_-Developer_Ed%2BTech-_-WW_WW-_-SkillsNetwork-Courses-IBMDeveloperSkillsNetwork-DB0201EN-SkillsNetwork-20127838&cm_mmca1=000026UJ&cm_mmca2=10006555&cm_mmca3=M12345678&cvosrc=email.Newsletter.M12345678&cvo_campaign=000026UJ)\n",
        "\n",
        "### 3. Chicago Crime Data\n",
        "\n",
        "This dataset reflects reported incidents of crime (with the exception of murders where data exists for each victim) that occurred in the City of Chicago from 2001 to present, minus the most recent seven days.\n",
        "\n",
        "A detailed description of this dataset and the original dataset can be obtained from the Chicago Data Portal at:\n",
        "[https://data.cityofchicago.org/Public-Safety/Crimes-2001-to-present/ijzp-q8t2](https://data.cityofchicago.org/Public-Safety/Crimes-2001-to-present/ijzp-q8t2?utm_medium=Exinfluencer&utm_source=Exinfluencer&utm_content=000026UJ&utm_term=10006555&utm_id=NA-SkillsNetwork-Channel-SkillsNetworkCoursesIBMDeveloperSkillsNetworkDB0201ENSkillsNetwork22-2022-01-01&cm_mmc=Email_Newsletter-_-Developer_Ed%2BTech-_-WW_WW-_-SkillsNetwork-Courses-IBMDeveloperSkillsNetwork-DB0201EN-SkillsNetwork-20127838&cm_mmca1=000026UJ&cm_mmca2=10006555&cm_mmca3=M12345678&cvosrc=email.Newsletter.M12345678&cvo_campaign=000026UJ)\n"
      ]
    },
    {
      "cell_type": "markdown",
      "metadata": {
        "id": "bISC3SfXDlHE"
      },
      "source": [
        "### Download the datasets\n",
        "\n",
        "This assignment requires you to have these three tables populated with a subset of the whole datasets.\n",
        "\n",
        "In many cases the dataset to be analyzed is available as a .CSV (comma separated values) file, perhaps on the internet. Click on the links below to download and save the datasets (.CSV files):\n",
        "\n",
        "- <a href=\"https://cf-courses-data.s3.us.cloud-object-storage.appdomain.cloud/IBMDeveloperSkillsNetwork-DB0201EN-SkillsNetwork/labs/FinalModule_Coursera_V5/data/ChicagoCensusData.csv\" target=\"_blank\">Chicago Census Data</a>\n",
        "\n",
        "- <a href=\"https://cf-courses-data.s3.us.cloud-object-storage.appdomain.cloud/IBMDeveloperSkillsNetwork-DB0201EN-SkillsNetwork/labs/FinalModule_Coursera_V5/data/ChicagoPublicSchools.csv\" target=\"_blank\">Chicago Public Schools</a>\n",
        "\n",
        "- <a href=\"https://cf-courses-data.s3.us.cloud-object-storage.appdomain.cloud/IBMDeveloperSkillsNetwork-DB0201EN-SkillsNetwork/labs/FinalModule_Coursera_V5/data/ChicagoCrimeData.csv\" target=\"_blank\">Chicago Crime Data</a>\n",
        "\n",
        "**NOTE**: For the learners who are encountering issues with loading from .csv in DB2 on Firefox, you can download the .txt files and load the data with those:\n",
        "\n",
        "- <a href=\"https://cf-courses-data.s3.us.cloud-object-storage.appdomain.cloud/IBMDeveloperSkillsNetwork-DB0201EN-SkillsNetwork/labs/FinalModule_Coursera_V5/data/ChicagoCensusData.txt\" target=\"_blank\">Chicago Census Data</a>\n",
        "    \n",
        "- <a href=\"https://cf-courses-data.s3.us.cloud-object-storage.appdomain.cloud/IBMDeveloperSkillsNetwork-DB0201EN-SkillsNetwork/labs/FinalModule_Coursera_V5/data/ChicagoPublicSchools.txt\" target=\"_blank\">Chicago Public Schools</a>\n",
        "  \n",
        "- <a href=\"https://cf-courses-data.s3.us.cloud-object-storage.appdomain.cloud/IBMDeveloperSkillsNetwork-DB0201EN-SkillsNetwork/labs/FinalModule_Coursera_V5/data/ChicagoCrimeData.txt\" target=\"_blank\">Chicago Crime Data</a>\n",
        "\n",
        "**NOTE:** Ensure you have downloaded the datasets using the links above instead of directly from the Chicago Data Portal. The versions linked here are subsets of the original datasets and have some of the column names modified to be more database friendly which will make it easier to complete this assignment.\n"
      ]
    },
    {
      "cell_type": "markdown",
      "metadata": {
        "id": "KtiniFI-DlHH"
      },
      "source": [
        "### Store the datasets in database tables\n",
        "\n",
        "To analyze the data using SQL, it first needs to be stored in the database.\n",
        "\n",
        "While it is easier to read the dataset into a Pandas dataframe and then PERSIST it into the database as we saw in Week 3 Lab 3, it results in mapping to default datatypes which may not be optimal for SQL querying. For example a long textual field may map to a CLOB instead of a VARCHAR.\n",
        "\n",
        "Therefore, **it is highly recommended to manually load the table using the database console LOAD tool, as indicated in Week 2 Lab 1 Part II**. The only difference with that lab is that in Step 5 of the instructions you will need to click on create \"(+) New Table\" and specify the name of the table you want to create and then click \"Next\".\n",
        "\n",
        "<img src=\"https://cf-courses-data.s3.us.cloud-object-storage.appdomain.cloud/IBMDeveloperSkillsNetwork-DB0201EN-SkillsNetwork/labs/FinalModule_Coursera_V5/images/LoadingData.png\">\n",
        "\n",
        "##### Now open the Db2 console, open the LOAD tool, Select / Drag the .CSV file for the first dataset, Next create a New Table, and then follow the steps on-screen instructions to load the data. Name the new tables as follows:\n",
        "\n",
        "1.  **CENSUS_DATA**\n",
        "2.  **CHICAGO_PUBLIC_SCHOOLS**\n",
        "3.  **CHICAGO_CRIME_DATA**\n"
      ]
    },
    {
      "cell_type": "markdown",
      "metadata": {
        "id": "QO-w_Gr_DlHJ"
      },
      "source": [
        "### Connect to the database\n",
        "\n",
        "Let us first load the SQL extension and establish a connection with the database\n",
        "\n",
        "The following required modules are pre-installed in the Skills Network Labs environment. However if you run this notebook commands in a different Jupyter environment (e.g. Watson Studio or Ananconda) you may need to install these libraries by removing the `#` sign before `!pip` in the code cell below.\n"
      ]
    },
    {
      "cell_type": "code",
      "execution_count": null,
      "metadata": {
        "id": "CnJQgRn3DlHL"
      },
      "outputs": [],
      "source": [
        "# These libraries are pre-installed in SN Labs. If running in another environment please uncomment lines below to install them:\n",
        "# !pip install --force-reinstall ibm_db==3.1.0 ibm_db_sa==0.3.3\n",
        "# Ensure we don't load_ext with sqlalchemy>=1.4 (incompadible)\n",
        "# !pip uninstall sqlalchemy==1.4 -y && pip install sqlalchemy==1.3.24\n",
        "# !pip install ipython-sql"
      ]
    },
    {
      "cell_type": "code",
      "execution_count": null,
      "metadata": {
        "id": "4LuzszhXDlHP"
      },
      "outputs": [],
      "source": [
        "%load_ext sql"
      ]
    },
    {
      "cell_type": "markdown",
      "metadata": {
        "id": "HiqJIhNbDlHR"
      },
      "source": [
        "In the next cell enter your db2 connection string. Recall you created Service Credentials for your Db2 instance in first lab in Week 3. From your Db2 service credentials copy everything after db2:// (except the double quote at the end) and paste it in the cell below after ibm_db_sa://\n",
        "\n",
        "<img src=\"https://cf-courses-data.s3.us.cloud-object-storage.appdomain.cloud/IBMDeveloperSkillsNetwork-DB0201EN-SkillsNetwork/labs/FinalModule_Coursera_V5/images/details.png\">\n"
      ]
    },
    {
      "cell_type": "code",
      "execution_count": 7,
      "metadata": {
        "colab": {
          "base_uri": "https://localhost:8080/"
        },
        "id": "D6qWPT3lDlHT",
        "outputId": "3a576bbd-ca11-48db-ca0f-5371871139e1"
      },
      "outputs": [
        {
          "output_type": "execute_result",
          "data": {
            "text/plain": [
              "533"
            ]
          },
          "metadata": {},
          "execution_count": 7
        }
      ],
      "source": [
        "import sqlite3\n",
        "import pandas as pd\n",
        "crime_data = pd.read_csv(\"/content/ChicagoCrimeData.csv\")\n",
        "school_data = pd.read_csv(\"/content/ChicagoPublicSchools.csv\")\n",
        "census_data = pd.read_csv(\"/content/ChicagoCensusData.csv\")\n",
        "# Create and connect to a SQLite database\n",
        "conn = sqlite3.connect('chicago_data.db')\n",
        "# Write dataframes to the database\n",
        "census_data.to_sql('CENSUS_DATA', conn, if_exists='replace', index=False)\n",
        "school_data.to_sql('CHICAGO_PUBLIC_SCHOOLS', conn, if_exists='replace', index=False)\n",
        "crime_data.to_sql('CHICAGO_CRIME_DATA', conn, if_exists='replace', index=False)\n"
      ]
    },
    {
      "cell_type": "markdown",
      "metadata": {
        "id": "XfPlZL_JDlHV"
      },
      "source": [
        "## Problems\n",
        "\n",
        "Now write and execute SQL queries to solve assignment problems\n",
        "\n",
        "### Problem 1\n",
        "\n",
        "##### Find the total number of crimes recorded in the CRIME table.\n"
      ]
    },
    {
      "cell_type": "code",
      "execution_count": 8,
      "metadata": {
        "colab": {
          "base_uri": "https://localhost:8080/"
        },
        "id": "RI-ZxmR3DlHV",
        "outputId": "57c67c56-6dd6-4f86-d660-efc5a48de882"
      },
      "outputs": [
        {
          "output_type": "stream",
          "name": "stdout",
          "text": [
            "Total number of crimes recorded: 533\n"
          ]
        }
      ],
      "source": [
        "query = \"SELECT COUNT(*) as total_crimes FROM CHICAGO_CRIME_DATA\"\n",
        "result = conn.execute(query).fetchone()\n",
        "print(\"Total number of crimes recorded:\", result[0])"
      ]
    },
    {
      "cell_type": "markdown",
      "metadata": {
        "id": "1_H7V_KpDlHW"
      },
      "source": [
        "### Problem 2\n",
        "\n",
        "##### List community areas with per capita income less than 11000.\n"
      ]
    },
    {
      "cell_type": "code",
      "execution_count": 9,
      "metadata": {
        "colab": {
          "base_uri": "https://localhost:8080/"
        },
        "id": "76uzKPd_DlHX",
        "outputId": "51373763-1132-4423-9a90-c584cd20de16"
      },
      "outputs": [
        {
          "output_type": "stream",
          "name": "stdout",
          "text": [
            "Community areas with per capita income less than 11,000:\n",
            "West Garfield Park\n",
            "South Lawndale\n",
            "Fuller Park\n",
            "Riverdale\n"
          ]
        }
      ],
      "source": [
        "query = \"SELECT community_area_name FROM CENSUS_DATA WHERE per_capita_income < 11000\"\n",
        "result = conn.execute(query).fetchall()\n",
        "print(\"Community areas with per capita income less than 11,000:\")\n",
        "for row in result:\n",
        "    print(row[0])"
      ]
    },
    {
      "cell_type": "markdown",
      "metadata": {
        "id": "wENIQNMxDlHX"
      },
      "source": [
        "### Problem 3\n",
        "\n",
        "##### List all case numbers for crimes  involving minors?(children are not considered minors for the purposes of crime analysis)\n",
        "\n"
      ]
    },
    {
      "cell_type": "code",
      "execution_count": 10,
      "metadata": {
        "colab": {
          "base_uri": "https://localhost:8080/"
        },
        "id": "oUoKhHQIDlHY",
        "outputId": "9115c437-8365-45bc-d169-718002600fc6"
      },
      "outputs": [
        {
          "output_type": "stream",
          "name": "stdout",
          "text": [
            "Case numbers for crimes involving minors:\n",
            "HL266884\n",
            "HK238408\n"
          ]
        }
      ],
      "source": [
        "query = \"SELECT case_number FROM CHICAGO_CRIME_DATA WHERE description LIKE '%MINOR%'\"\n",
        "result = conn.execute(query).fetchall()\n",
        "print(\"Case numbers for crimes involving minors:\")\n",
        "for row in result:\n",
        "    print(row[0])"
      ]
    },
    {
      "cell_type": "markdown",
      "metadata": {
        "id": "GD1yIC0PDlHY"
      },
      "source": [
        "### Problem 4\n",
        "\n",
        "##### List all kidnapping crimes involving a child?\n"
      ]
    },
    {
      "cell_type": "code",
      "execution_count": 15,
      "metadata": {
        "colab": {
          "base_uri": "https://localhost:8080/"
        },
        "id": "m7aPw0YxDlHZ",
        "outputId": "43bbde5d-289e-40f0-b612-c6838ef0bb26"
      },
      "outputs": [
        {
          "output_type": "stream",
          "name": "stdout",
          "text": [
            "Kidnapping crimes involving a child:\n",
            "[]\n"
          ]
        }
      ],
      "source": [
        "query = \"SELECT case_number, description FROM CHICAGO_CRIME_DATA WHERE description LIKE '%KIDNAP%' AND (description LIKE '%CHILD%' OR description LIKE '%YOUTH%' OR description LIKE '%MINOR%')\"\n",
        "result = conn.execute(query).fetchall()\n",
        "print(\"Kidnapping crimes involving a child:\")\n",
        "for row in result:\n",
        "    print(\"Case Number:\", row[0])\n",
        "    print(\"Description:\", row[1])\n",
        "    print()"
      ]
    },
    {
      "cell_type": "markdown",
      "metadata": {
        "id": "HgqUVRhTDlHZ"
      },
      "source": [
        "### Problem 5\n",
        "\n",
        "##### What kinds of crimes were recorded at schools?\n"
      ]
    },
    {
      "cell_type": "code",
      "execution_count": 14,
      "metadata": {
        "colab": {
          "base_uri": "https://localhost:8080/"
        },
        "id": "jBRmFOlhDlHa",
        "outputId": "8dabd2fc-fba3-4441-ea40-1d3d05081ba8"
      },
      "outputs": [
        {
          "output_type": "stream",
          "name": "stdout",
          "text": [
            "Kinds of crimes recorded at schools:\n",
            "BATTERY\n",
            "CRIMINAL DAMAGE\n",
            "NARCOTICS\n",
            "ASSAULT\n",
            "CRIMINAL TRESPASS\n",
            "PUBLIC PEACE VIOLATION\n"
          ]
        }
      ],
      "source": [
        "query = \"SELECT DISTINCT(primary_type) FROM CHICAGO_CRIME_DATA WHERE location_description LIKE '%SCHOOL%'\"\n",
        "result = conn.execute(query).fetchall()\n",
        "print(\"Kinds of crimes recorded at schools:\")\n",
        "for row in result:\n",
        "    print(row[0])"
      ]
    },
    {
      "cell_type": "markdown",
      "metadata": {
        "id": "bVO66aIwDlHa"
      },
      "source": [
        "### Problem 6\n",
        "\n",
        "##### List the average safety score for each type of school.\n"
      ]
    },
    {
      "cell_type": "code",
      "execution_count": 16,
      "metadata": {
        "colab": {
          "base_uri": "https://localhost:8080/"
        },
        "id": "LTVUCnTgDlHa",
        "outputId": "7cac8f97-8d92-486c-fdf3-f4a059960c6e"
      },
      "outputs": [
        {
          "output_type": "stream",
          "name": "stdout",
          "text": [
            "Average safety score for each type of school:\n",
            "School Type: ES\n",
            "Average Safety Score: 49.52038369304557\n",
            "\n",
            "School Type: HS\n",
            "Average Safety Score: 49.62352941176471\n",
            "\n",
            "School Type: MS\n",
            "Average Safety Score: 48.0\n",
            "\n"
          ]
        }
      ],
      "source": [
        "query = \"\"\"\n",
        "SELECT \"Elementary, Middle, or High School\" AS school_type, AVG(safety_score) AS avg_safety_score\n",
        "FROM CHICAGO_PUBLIC_SCHOOLS\n",
        "GROUP BY school_type\n",
        "\"\"\"\n",
        "result = conn.execute(query).fetchall()\n",
        "print(\"Average safety score for each type of school:\")\n",
        "for row in result:\n",
        "    print(\"School Type:\", row[0])\n",
        "    print(\"Average Safety Score:\", row[1])\n",
        "    print()"
      ]
    },
    {
      "cell_type": "markdown",
      "metadata": {
        "id": "Lre_nVgoDlHb"
      },
      "source": [
        "### Problem 7\n",
        "\n",
        "##### List 5 community areas with highest % of households below poverty line\n"
      ]
    },
    {
      "cell_type": "code",
      "execution_count": 17,
      "metadata": {
        "colab": {
          "base_uri": "https://localhost:8080/"
        },
        "id": "BTcnBy4ZDlHc",
        "outputId": "7a0bb213-1baf-433e-c0cb-fae62bc1a4e5"
      },
      "outputs": [
        {
          "output_type": "stream",
          "name": "stdout",
          "text": [
            "5 Community Areas with the Highest % of Households Below Poverty Line:\n",
            "Community Area: Riverdale\n",
            "% of Households Below Poverty Line: 56.5\n",
            "\n",
            "Community Area: Fuller Park\n",
            "% of Households Below Poverty Line: 51.2\n",
            "\n",
            "Community Area: Englewood\n",
            "% of Households Below Poverty Line: 46.6\n",
            "\n",
            "Community Area: North Lawndale\n",
            "% of Households Below Poverty Line: 43.1\n",
            "\n",
            "Community Area: East Garfield Park\n",
            "% of Households Below Poverty Line: 42.4\n",
            "\n"
          ]
        }
      ],
      "source": [
        "query = \"\"\"\n",
        "SELECT community_area_name, percent_households_below_poverty\n",
        "FROM CENSUS_DATA\n",
        "ORDER BY percent_households_below_poverty DESC\n",
        "LIMIT 5\n",
        "\"\"\"\n",
        "result = conn.execute(query).fetchall()\n",
        "print(\"5 Community Areas with the Highest % of Households Below Poverty Line:\")\n",
        "for row in result:\n",
        "    print(\"Community Area:\", row[0])\n",
        "    print(\"% of Households Below Poverty Line:\", row[1])\n",
        "    print()"
      ]
    },
    {
      "cell_type": "markdown",
      "metadata": {
        "id": "2DJvMR2dDlHc"
      },
      "source": [
        "### Problem 8\n",
        "\n",
        "##### Which community area is most crime prone?\n"
      ]
    },
    {
      "cell_type": "code",
      "execution_count": 19,
      "metadata": {
        "colab": {
          "base_uri": "https://localhost:8080/"
        },
        "id": "HSAwslGBDlHd",
        "outputId": "03558a5b-4762-4fdd-ee38-75a4e59ce3f6"
      },
      "outputs": [
        {
          "output_type": "stream",
          "name": "stdout",
          "text": [
            "The most crime-prone community area:\n",
            "Community Area: 25.0\n",
            "Number of Crimes: 43\n"
          ]
        }
      ],
      "source": [
        "query = \"\"\"\n",
        "SELECT community_area_number, COUNT(*) AS crime_count\n",
        "FROM CHICAGO_CRIME_DATA\n",
        "GROUP BY community_area_number\n",
        "ORDER BY crime_count DESC\n",
        "LIMIT 1\n",
        "\"\"\"\n",
        "result = conn.execute(query).fetchone()\n",
        "print(\"The most crime-prone community area:\")\n",
        "print(\"Community Area:\", result[0])\n",
        "print(\"Number of Crimes:\", result[1])"
      ]
    },
    {
      "cell_type": "markdown",
      "metadata": {
        "id": "VD78yZPEDlHd"
      },
      "source": [
        "Double-click **here** for a hint\n",
        "\n",
        "<!--\n",
        "Query for the 'community area number' that is most crime prone.\n",
        "-->\n"
      ]
    },
    {
      "cell_type": "markdown",
      "metadata": {
        "id": "CSuVkiFHDlHe"
      },
      "source": [
        "### Problem 9\n",
        "\n",
        "##### Use a sub-query to find the name of the community area with highest hardship index\n"
      ]
    },
    {
      "cell_type": "code",
      "execution_count": 20,
      "metadata": {
        "colab": {
          "base_uri": "https://localhost:8080/"
        },
        "id": "GEL1XOHzDlHf",
        "outputId": "3df9c4b5-4ef8-4b70-fee0-df2063e9391a"
      },
      "outputs": [
        {
          "output_type": "stream",
          "name": "stdout",
          "text": [
            "Community Area with the Highest Hardship Index:\n",
            "Community Area Name: Riverdale\n"
          ]
        }
      ],
      "source": [
        "query = \"\"\"\n",
        "SELECT community_area_name\n",
        "FROM CENSUS_DATA\n",
        "WHERE hardship_index = (\n",
        "    SELECT MAX(hardship_index)\n",
        "    FROM CENSUS_DATA\n",
        ")\n",
        "\"\"\"\n",
        "result = conn.execute(query).fetchone()\n",
        "print(\"Community Area with the Highest Hardship Index:\")\n",
        "print(\"Community Area Name:\", result[0])"
      ]
    },
    {
      "cell_type": "markdown",
      "metadata": {
        "id": "7qshJPyFDlHf"
      },
      "source": [
        "### Problem 10\n",
        "\n",
        "##### Use a sub-query to determine the Community Area Name with most number of crimes?\n"
      ]
    },
    {
      "cell_type": "code",
      "execution_count": 25,
      "metadata": {
        "colab": {
          "base_uri": "https://localhost:8080/"
        },
        "id": "5xigNZCnDlHg",
        "outputId": "af8d2529-d780-4388-81a8-0ee339488292"
      },
      "outputs": [
        {
          "output_type": "stream",
          "name": "stdout",
          "text": [
            "Community Area Name with the Most Number of Crimes:\n",
            "Community Area Name: Austin\n"
          ]
        }
      ],
      "source": [
        "query = \"\"\"\n",
        "SELECT community_area_name\n",
        "FROM CENSUS_DATA\n",
        "WHERE community_area_number = (\n",
        "    SELECT community_area_number\n",
        "    FROM (\n",
        "        SELECT community_area_number, COUNT(*) AS crime_count\n",
        "        FROM CHICAGO_CRIME_DATA\n",
        "        GROUP BY community_area_number\n",
        "        ORDER BY crime_count DESC\n",
        "        LIMIT 1\n",
        "    )\n",
        ")\n",
        "\"\"\"\n",
        "result = conn.execute(query).fetchone()\n",
        "print(\"Community Area Name with the Most Number of Crimes:\")\n",
        "print(\"Community Area Name:\", result[0])"
      ]
    },
    {
      "cell_type": "markdown",
      "metadata": {
        "id": "qTrK-HvXDlHg"
      },
      "source": [
        "Copyright © 2020 [cognitiveclass.ai](cognitiveclass.ai?utm_source=bducopyrightlink&utm_medium=dswb&utm_campaign=bdu). This notebook and its source code are released under the terms of the [MIT License](https://bigdatauniversity.com/mit-license?utm_medium=Exinfluencer&utm_source=Exinfluencer&utm_content=000026UJ&utm_term=10006555&utm_id=NA-SkillsNetwork-Channel-SkillsNetworkCoursesIBMDeveloperSkillsNetworkDB0201ENSkillsNetwork22-2022-01-01&cm_mmc=Email_Newsletter-_-Developer_Ed%2BTech-_-WW_WW-_-SkillsNetwork-Courses-IBMDeveloperSkillsNetwork-DB0201EN-SkillsNetwork-20127838&cm_mmca1=000026UJ&cm_mmca2=10006555&cm_mmca3=M12345678&cvosrc=email.Newsletter.M12345678&cvo_campaign=000026UJ).\n"
      ]
    },
    {
      "cell_type": "markdown",
      "metadata": {
        "id": "qUkzehKuDlHh"
      },
      "source": [
        "## Author(s)\n",
        "\n",
        "<h4> Hima Vasudevan </h4>\n",
        "<h4> Rav Ahuja </h4>\n",
        "<h4> Ramesh Sannreddy </h4>\n",
        "\n",
        "## Contribtuor(s)\n",
        "\n",
        "<h4> Malika Singla </h4>\n",
        "\n",
        "## Change log\n",
        "\n",
        "| Date       | Version | Changed by    | Change Description                 |\n",
        "| ---------- | ------- | ------------- | ---------------------------------- |\n",
        "| 2021-11-17  | 2.6  | Lakshmi  | Updated library  |\n",
        "| 2021-05-19 | 2.4     | Lakshmi Holla | Updated the question   |\n",
        "| 2021-04-30 | 2.3     | Malika Singla | Updated the libraries   |\n",
        "| 2021-01-15 | 2.2     | Rav Ahuja | Removed problem 11 and fixed changelog |\n",
        "| 2020-11-25 | 2.1     | Ramesh Sannareddy | Updated the problem statements, and datasets |\n",
        "| 2020-09-05 | 2.0     | Malika Singla | Moved lab to course repo in GitLab |\n",
        "| 2018-07-18 | 1.0     | Rav Ahuja | Several updates including loading instructions |\n",
        "| 2018-05-04 | 0.1     | Hima Vasudevan | Created initial version |\n",
        "\n",
        "## <h3 align=\"center\"> © IBM Corporation 2020. All rights reserved. <h3/>\n"
      ]
    }
  ],
  "metadata": {
    "kernelspec": {
      "display_name": "Python",
      "language": "python",
      "name": "conda-env-python-py"
    },
    "language_info": {
      "name": ""
    },
    "colab": {
      "provenance": []
    }
  },
  "nbformat": 4,
  "nbformat_minor": 0
}